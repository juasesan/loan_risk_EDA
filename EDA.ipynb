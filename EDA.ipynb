{
 "cells": [
  {
   "cell_type": "code",
   "execution_count": null,
   "metadata": {},
   "outputs": [],
   "source": [
    "import pandas as pd\n",
    "import numpy as np\n",
    "import seaborn as sns\n",
    "import matplotlib.pyplot as plt\n",
    "import sweetviz as sv"
   ]
  },
  {
   "cell_type": "markdown",
   "metadata": {},
   "source": [
    "# Data pre-processing and feature engineering"
   ]
  },
  {
   "cell_type": "markdown",
   "metadata": {},
   "source": [
    "## Current application dataset"
   ]
  },
  {
   "cell_type": "code",
   "execution_count": null,
   "metadata": {},
   "outputs": [],
   "source": [
    "current_data = pd.read_csv('data/application_data.csv')\n",
    "current_data.shape"
   ]
  },
  {
   "cell_type": "markdown",
   "metadata": {},
   "source": [
    "First we start by converting some of variables of interest to years, as they are represented as \"number of days before the application\" which is the case of the DAYS_BIRTH, DAYS_EMPLOYED and DAYS_REGISTRATION columns"
   ]
  },
  {
   "cell_type": "code",
   "execution_count": null,
   "metadata": {},
   "outputs": [],
   "source": [
    "# Converting the days to years\n",
    "current_data['DAYS_BIRTH'] = current_data['DAYS_BIRTH'] / -365\n",
    "current_data['DAYS_EMPLOYED'] = current_data['DAYS_EMPLOYED'] / -365\n",
    "current_data['DAYS_REGISTRATION'] = current_data['DAYS_REGISTRATION'] / -365"
   ]
  },
  {
   "cell_type": "markdown",
   "metadata": {},
   "source": [
    "We see some incoherent values in DAYS_EMPLOYED column (negative values with a number of years of 1000) which we need to drop"
   ]
  },
  {
   "cell_type": "code",
   "execution_count": null,
   "metadata": {},
   "outputs": [],
   "source": [
    "# Dropping negative values in DAYS_EMPLOYED\n",
    "current_data = current_data[current_data['DAYS_EMPLOYED'] >= 0]"
   ]
  },
  {
   "cell_type": "code",
   "execution_count": null,
   "metadata": {},
   "outputs": [],
   "source": [
    "# Renaming columns starting with DAYS to YEARS\n",
    "current_data.rename(columns={'DAYS_BIRTH': 'CLIENT_AGE', 'DAYS_EMPLOYED': 'YEARS_EMPLOYED', 'DAYS_REGISTRATION': 'YEARS_REGISTRATION'}, inplace=True)"
   ]
  },
  {
   "cell_type": "code",
   "execution_count": null,
   "metadata": {},
   "outputs": [],
   "source": [
    "current_data[['CLIENT_AGE', 'YEARS_EMPLOYED', 'YEARS_REGISTRATION']].describe()"
   ]
  },
  {
   "cell_type": "markdown",
   "metadata": {},
   "source": [
    "Then, we combine the 20 columns indicating wherther or not the client has provided each document, into a single column indicating the percentage of documents the client provided."
   ]
  },
  {
   "cell_type": "code",
   "execution_count": null,
   "metadata": {},
   "outputs": [],
   "source": [
    "current_data['PERCENT_DOCS'] = current_data.filter(like='FLAG_DOCUMENT').mean(axis=1)\n",
    "current_data['PERCENT_DOCS'] = current_data['PERCENT_DOCS']*100\n",
    "\n",
    "# Drop the FLAG_DOCUMENT columns\n",
    "current_data.drop(current_data.filter(like='FLAG_DOCUMENT'), axis=1, inplace=True)"
   ]
  },
  {
   "cell_type": "markdown",
   "metadata": {},
   "source": [
    "Lastly, we drop some columns we are not going to use as this analysis already consider so many variables."
   ]
  },
  {
   "cell_type": "code",
   "execution_count": null,
   "metadata": {},
   "outputs": [],
   "source": [
    "# Drop columns ended by _AVG, _MEDI, _MODE\n",
    "current_data.drop(current_data.filter(like='_AVG'), axis=1, inplace=True)\n",
    "current_data.drop(current_data.filter(like='_MEDI'), axis=1, inplace=True)\n",
    "current_data.drop(current_data.filter(like='_MODE'), axis=1, inplace=True)"
   ]
  },
  {
   "cell_type": "code",
   "execution_count": null,
   "metadata": {},
   "outputs": [],
   "source": [
    "# Showing the final number of columns for this dataset\n",
    "current_data.shape"
   ]
  },
  {
   "cell_type": "markdown",
   "metadata": {},
   "source": [
    "## Previous applications dataset"
   ]
  },
  {
   "cell_type": "code",
   "execution_count": null,
   "metadata": {},
   "outputs": [],
   "source": [
    "previous_columns = [\n",
    "    'SK_ID_PREV', 'SK_ID_CURR', 'NAME_CONTRACT_TYPE', 'AMT_ANNUITY', 'AMT_APPLICATION', 'AMT_CREDIT', 'AMT_DOWN_PAYMENT', 'AMT_GOODS_PRICE',\n",
    "    'NAME_CONTRACT_STATUS', 'NAME_CLIENT_TYPE', 'NAME_GOODS_CATEGORY', 'NAME_PORTFOLIO', 'CNT_PAYMENT', 'NFLAG_INSURED_ON_APPROVAL'\n",
    "]"
   ]
  },
  {
   "cell_type": "code",
   "execution_count": null,
   "metadata": {},
   "outputs": [],
   "source": [
    "previous_data = pd.read_csv('data/previous_application.csv', usecols=previous_columns)\n",
    "previous_data.shape"
   ]
  },
  {
   "cell_type": "code",
   "execution_count": null,
   "metadata": {},
   "outputs": [],
   "source": []
  },
  {
   "cell_type": "code",
   "execution_count": null,
   "metadata": {},
   "outputs": [],
   "source": [
    "previous_data.head()"
   ]
  },
  {
   "cell_type": "markdown",
   "metadata": {},
   "source": [
    "## Analysis"
   ]
  },
  {
   "cell_type": "code",
   "execution_count": null,
   "metadata": {},
   "outputs": [],
   "source": [
    "my_report = sv.analyze(source=current_data.iloc[:,:34], target_feat='TARGET')"
   ]
  },
  {
   "cell_type": "code",
   "execution_count": null,
   "metadata": {},
   "outputs": [],
   "source": [
    "my_report.show_notebook()"
   ]
  },
  {
   "cell_type": "code",
   "execution_count": null,
   "metadata": {},
   "outputs": [],
   "source": []
  }
 ],
 "metadata": {
  "kernelspec": {
   "display_name": "base",
   "language": "python",
   "name": "python3"
  },
  "language_info": {
   "codemirror_mode": {
    "name": "ipython",
    "version": 3
   },
   "file_extension": ".py",
   "mimetype": "text/x-python",
   "name": "python",
   "nbconvert_exporter": "python",
   "pygments_lexer": "ipython3",
   "version": "3.11.5"
  }
 },
 "nbformat": 4,
 "nbformat_minor": 2
}
